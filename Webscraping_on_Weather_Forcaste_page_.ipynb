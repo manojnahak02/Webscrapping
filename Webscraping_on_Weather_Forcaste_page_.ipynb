{
  "nbformat": 4,
  "nbformat_minor": 0,
  "metadata": {
    "colab": {
      "name": "Webscraping on Weather Forcaste page .ipynb",
      "provenance": [],
      "collapsed_sections": [],
      "authorship_tag": "ABX9TyP5KM19kV2PfDZD2u9HB2Ox",
      "include_colab_link": true
    },
    "kernelspec": {
      "name": "python3",
      "display_name": "Python 3"
    }
  },
  "cells": [
    {
      "cell_type": "markdown",
      "metadata": {
        "id": "view-in-github",
        "colab_type": "text"
      },
      "source": [
        "<a href=\"https://colab.research.google.com/github/manojnahak02/Webscrapping/blob/master/Webscraping_on_Weather_Forcaste_page_.ipynb\" target=\"_parent\"><img src=\"https://colab.research.google.com/assets/colab-badge.svg\" alt=\"Open In Colab\"/></a>"
      ]
    },
    {
      "cell_type": "code",
      "metadata": {
        "id": "9GBG0Hsww-Oc",
        "colab_type": "code",
        "colab": {}
      },
      "source": [
        "# If you want to scrape a website:\n",
        "# 1. Use the API\n",
        "# 2. HTML Web Scraping using some tool like bs4\n",
        "\n",
        "# Step 0: Install all the requirements\n",
        "# pip install requests\n",
        "# pip install bs4 or beautifulsoup4\n",
        "# pip install html5lib"
      ],
      "execution_count": 1,
      "outputs": []
    },
    {
      "cell_type": "code",
      "metadata": {
        "id": "ePFNRCIuSMff",
        "colab_type": "code",
        "colab": {}
      },
      "source": [
        "import requests\n",
        "from bs4 import BeautifulSoup"
      ],
      "execution_count": 2,
      "outputs": []
    },
    {
      "cell_type": "code",
      "metadata": {
        "id": "oVp6NFO8_YJa",
        "colab_type": "code",
        "colab": {
          "base_uri": "https://localhost:8080/",
          "height": 54
        },
        "outputId": "7614fc99-a2e4-49f5-9823-2ad2b14d62ed"
      },
      "source": [
        "# Step 1: Get the HTML\n",
        "page = requests.get(\"https://forecast.weather.gov/MapClick.php?lat=36.3741&lon=-119.2702#.XzQn5IgzbtQ\")\n",
        "\n",
        "# Step 2: Parse the HTML\n",
        "soup = BeautifulSoup(page.content, 'html.parser')\n",
        "print(soup.find_all('a'))  #finding all the hyperlink inside the page\n",
        "# print(soup.prettify)"
      ],
      "execution_count": 3,
      "outputs": [
        {
          "output_type": "stream",
          "text": [
            "[<a class=\"pull-left\" href=\"http://www.noaa.gov\" id=\"header-noaa\"><img alt=\"National Oceanic and Atmospheric Administration\" src=\"/css/images/header_noaa.png\"/></a>, <a class=\"pull-left\" href=\"http://www.weather.gov\" id=\"header-nws\"><img alt=\"National Weather Service\" src=\"/css/images/header_nws.png\"/></a>, <a class=\"pull-right\" href=\"http://www.commerce.gov\" id=\"header-doc\"><img alt=\"United States Department of Commerce\" src=\"/css/images/header_doc.png\"/></a>, <a href=\"http://www.weather.gov\">HOME</a>, <a class=\"dropdown-toggle\" data-toggle=\"dropdown\" href=\"http://www.weather.gov/forecastmaps\">FORECAST <span class=\"caret\"></span></a>, <a href=\"http://www.weather.gov\">Local</a>, <a href=\"http://digital.weather.gov\">Graphical</a>, <a href=\"http://www.aviationweather.gov/\">Aviation</a>, <a href=\"http://www.nws.noaa.gov/om/marine/home.htm\">Marine</a>, <a href=\"http://water.weather.gov/ahps/\">Rivers and Lakes</a>, <a href=\"http://www.nhc.noaa.gov/\">Hurricanes</a>, <a href=\"http://www.spc.noaa.gov/\">Severe Weather</a>, <a href=\"http://www.weather.gov/fire/\">Fire Weather</a>, <a href=\"https://www.esrl.noaa.gov/gmd/grad/solcalc/sunrise.html\">Sun/Moon</a>, <a href=\"http://www.cpc.ncep.noaa.gov/\">Long Range Forecasts</a>, <a href=\"http://www.cpc.ncep.noaa.gov\">Climate Prediction</a>, <a href=\"https://www.swpc.noaa.gov/\">Space Weather</a>, <a class=\"dropdown-toggle\" data-toggle=\"dropdown\" href=\"https://w2.weather.gov/climate\">PAST WEATHER <span class=\"caret\"></span></a>, <a href=\"https://w2.weather.gov/climate/\">Past Weather</a>, <a href=\"https://w2.weather.gov/climate/\">Heating/Cooling Days</a>, <a href=\"https://w2.weather.gov/climate/\">Monthly Temperatures</a>, <a href=\"https://w2.weather.gov/climate/\">Records</a>, <a href=\"http://aa.usno.navy.mil/\">Astronomical Data</a>, <a class=\"dropdown-toggle\" data-toggle=\"dropdown\" href=\"http://www.weather.gov/safety\">SAFETY <span class=\"caret\"></span></a>, <a href=\"https://www.weather.gov/safety/flood\">Floods</a>, <a href=\"https://www.weather.gov/safety/tsunami\">Tsunamis</a>, <a href=\"https://www.weather.gov/safety/beachhazards\">Beach Hazards</a>, <a href=\"https://www.weather.gov/safety/wildfire\">Wildfire</a>, <a href=\"https://www.weather.gov/safety/cold\">Cold</a>, <a href=\"https://www.weather.gov/safety/tornado\">Tornadoes</a>, <a href=\"https://www.weather.gov/safety/airquality\">Air Quality</a>, <a href=\"https://www.weather.gov/safety/fog\">Fog</a>, <a href=\"https://www.weather.gov/safety/heat\">Heat</a>, <a href=\"https://www.weather.gov/safety/hurricane\">Hurricanes</a>, <a href=\"https://www.weather.gov/safety/lightning\">Lightning</a>, <a href=\"https://www.weather.gov/safety/safeboating\">Safe Boating</a>, <a href=\"https://www.weather.gov/safety/ripcurrent\">Rip Currents</a>, <a href=\"https://www.weather.gov/safety/thunderstorm\">Thunderstorms</a>, <a href=\"https://www.weather.gov/safety/space\">Space Weather</a>, <a href=\"https://www.weather.gov/safety/heat-uv\">Sun (Ultraviolet Radiation)</a>, <a href=\"http://www.weather.gov/safetycampaign\">Safety Campaigns</a>, <a href=\"https://www.weather.gov/safety/wind\">Wind</a>, <a href=\"https://www.weather.gov/safety/drought\">Drought</a>, <a href=\"https://www.weather.gov/safety/winter\">Winter Weather</a>, <a class=\"dropdown-toggle\" data-toggle=\"dropdown\" href=\"http://www.weather.gov/informationcenter\">INFORMATION <span class=\"caret\"></span></a>, <a href=\"http://www.weather.gov/Owlie's\">Owlie's Kids Page</a>, <a href=\"http://www.weather.gov/wrn/wea\">Wireless Emergency Alerts</a>, <a href=\"https://www.weather.gov/owlie/publication_brochures\">Brochures</a>, <a href=\"http://www.weather.gov/wrn/\">Weather-Ready Nation</a>, <a href=\"https://www.weather.gov/coop/\">Cooperative Observers</a>, <a href=\"http://www.weather.gov/briefing/\">Daily Briefing</a>, <a href=\"http://www.nws.noaa.gov/om/hazstats.shtml\">Damage/Fatality/Injury Statistics</a>, <a href=\"http://mag.ncep.noaa.gov/\">Forecast Models</a>, <a href=\"https://www.weather.gov/gis\">GIS Data Portal</a>, <a href=\"https://www.weather.gov/nwr/\">NOAA Weather Radio</a>, <a href=\"http://weather.gov/publications\">Publications</a>, <a href=\"http://www.weather.gov/SKYWARN\">SKYWARN Storm Spotters</a>, <a href=\"http://www.weather.gov/StormReady\">StormReady</a>, <a href=\"https://www.weather.gov/TsunamiReady/\">TsunamiReady</a>, <a href=\"https://www.weather.gov/notification/\">Service Change Notices</a>, <a class=\"dropdown-toggle\" data-toggle=\"dropdown\" href=\"http://www.weather.gov/owlie\">EDUCATION <span class=\"caret\"></span></a>, <a href=\"https://www.weather.gov/wrn/force\">Be A Force of Nature</a>, <a href=\"http://www.weather.gov/owlie\">NWS Education Home</a>, <a class=\"dropdown-toggle\" data-toggle=\"dropdown\" href=\"http://www.weather.gov/contact-media/\">NEWS <span class=\"caret\"></span></a>, <a href=\"http://www.weather.gov/news\">NWS News</a>, <a href=\"https://www.weather.gov/wrn/calendar\">Events</a>, <a href=\"http://www.weather.gov/socialmedia\">Social Media</a>, <a href=\"https://www.weather.gov/owlie/publication_brochures\">Pubs/Brochures/Booklets </a>, <a href=\"http://www.noaa.gov/NOAA-Communications\">NWS Media Contacts</a>, <a class=\"dropdown-toggle\" data-toggle=\"dropdown\" href=\"http://www.weather.gov/search\">SEARCH <span class=\"caret\"></span></a>, <a class=\"dropdown-toggle\" data-toggle=\"dropdown\" href=\"http://www.weather.gov/about\">ABOUT <span class=\"caret\"></span></a>, <a href=\"http://www.weather.gov/about\">About NWS</a>, <a href=\"http://www.weather.gov/organization\">Organization</a>, <a href=\"https://www.weather.gov/media/wrn/NWS_Weather-Ready-Nation_Strategic_Plan_2019-2022.pdf\">Strategic Plan</a>, <a href=\"https://sites.google.com/a/noaa.gov/nws-insider/\">For NWS Employees</a>, <a href=\"http://www.weather.gov/international/\">International</a>, <a href=\"http://www.weather.gov/organization\">National Centers</a>, <a href=\"http://www.weather.gov/careers/\">Careers</a>, <a href=\"http://www.weather.gov/contact\">Contact Us</a>, <a href=\"https://w1.weather.gov/glossary\">Glossary</a>, <a href=\"javascript:void(window.open('http://weather.gov/ForecastSearchHelp.html','locsearchhelp','status=0,toolbar=0,location=0,menubar=0,directories=0,resizable=1,scrollbars=1,height=500,width=530').focus());\">View Location Examples</a>, <a href=\"http://www.wpc.ncep.noaa.gov/discussions/hpcdiscussions.php?disc=pmdspd\" target=\"_blank\">Read More &gt;</a>, <a class=\"anchor-hazards\" href=\"showsigwx.php?warnzone=CAZ185&amp;warncounty=CAC107&amp;firewxzone=CAZ580&amp;local_place1=8 Miles ENE Visalia CA&amp;product1=Excessive+Heat+Watch&amp;lat=36.3741&amp;lon=-119.2702\" id=\"hazard-CAZ185-Excessive+Heat+Watch-0\">Excessive Heat Watch in effect from August 15,  01:00 PM PDT until August 16, 09:00 PM PDT</a>, <a href=\"//forecast.weather.gov/MapClick.php?lat=36.3741&amp;lon=-119.2702&amp;lg=sp\">En Español</a>, <a class=\"addthis_button_compact\" href=\"//www.addthis.com/bookmark.php?v=250&amp;pubid=ra-5127a6364d551d04\">Share</a>, <a class=\"addthis_button_preferred_1\"></a>, <a class=\"addthis_button_preferred_2\"></a>, <a class=\"addthis_button_preferred_3\"></a>, <a class=\"addthis_button_preferred_4\"></a>, <a class=\"addthis_button_preferred_5\"></a>, <a href=\"https://www.weather.gov/hnx\" id=\"localWFO\" title=\"San Joaquin Valley/Hanford, CA\"><span class=\"hideText\">Local</span> Forecast Office</a>, <a href=\"https://www.weather.gov/wrh/LocalWeather?zone=CAZ183\" id=\"moreWx\">More Local Wx</a>, <a href=\"https://www.wrh.noaa.gov/mesowest/getobext.php?wfo=hnx&amp;sid=KVIS&amp;num=72&amp;raw=0\">3 Day History</a>, <a href=\"//mobile.weather.gov/index.php?lat=36.3741&amp;lon=-119.2702&amp;unit=0&amp;lg=english\" id=\"mobileWxLink\">Mobile Weather</a>, <a href=\"MapClick.php?lat=36.3741&amp;lon=-119.2702&amp;unit=0&amp;lg=english&amp;FcstType=graphical\" id=\"wxGraph\">Hourly <span class=\"hideText\">Weather </span>Forecast</a>, <a href=\"MapClick.php?zoneid=CAZ185\">Zone Area Forecast for Tulare County, CA</a>, <a href=\"//forecast.weather.gov/product.php?site=HNX&amp;issuedby=HNX&amp;product=AFD&amp;format=CI&amp;version=1&amp;glossary=1\">Forecast Discussion</a>, <a href=\"MapClick.php?lat=36.3741&amp;lon=-119.2702&amp;unit=0&amp;lg=english&amp;FcstType=text&amp;TextType=2\">Printable Forecast</a>, <a href=\"MapClick.php?lat=36.3741&amp;lon=-119.2702&amp;unit=0&amp;lg=english&amp;FcstType=text&amp;TextType=1\">Text Only Forecast</a>, <a href=\"MapClick.php?lat=36.3741&amp;lon=-119.2702&amp;unit=0&amp;lg=english&amp;FcstType=graphical\">Hourly Weather Forecast</a>, <a href=\"MapClick.php?lat=36.3741&amp;lon=-119.2702&amp;unit=0&amp;lg=english&amp;FcstType=digital\">Tabular Forecast</a>, <a href=\"//weather.gov/aq/probe_aq_data.php?latitude=36.3741&amp;longitude=-119.2702\">Air Quality Forecasts</a>, <a href=\"MapClick.php?lat=36.3741&amp;lon=-119.2702&amp;FcstType=text&amp;unit=1&amp;lg=en\">International System of Units</a>, <a href=\"//www.wrh.noaa.gov/forecast/wxtables/index.php?lat=36.3741&amp;lon=-119.2702\">Forecast Weather Table Interface</a>, <a href=\"https://w2.weather.gov/climate/index.php?wfo=hnx\" target=\"_self\">Local Climatology</a>, <a href=\"https://www.weather.gov/nwsexit.php?url=https://roads.dot.ca.gov/\" target=\"_self\">Road Reports</a>, <a href=\"https://graphical.weather.gov/sectors/hnx.php\" target=\"_self\">Experimental Graphical Forecasts</a>, <a href=\"https://www.weather.gov/nwsexit.php?url=https://www.valleyair.org/aqinfo/forecast.htm\" target=\"_self\">Air Quality Forecasts</a>, <a href=\"https://www.nws.noaa.gov/wtf/udaf/area/?site=hnx\" target=\"_self\">User Defined Area</a>, <a href=\"https://www.weather.gov/hnx/HNXFogSI.html\" target=\"_self\">Fog Severity Index</a>, <a href=\"http://www.weather.gov/disclaimer#esri\">Disclaimer</a>, <a href=\"//www.weather.gov/glossary/index.php?word=Last+update\" target=\"_blank\">Last Update</a>, <a href=\"//www.weather.gov/glossary/index.php?word=forecast+valid+for\" target=\"_blank\">Forecast Valid</a>, <a href=\"https://forecast.weather.gov/product.php?site=HNX&amp;issuedby=HNX&amp;product=AFD&amp;format=CI&amp;version=1&amp;glossary=1\">Forecast Discussion</a>, <a href=\"MapClick.php?lat=36.3741&amp;lon=-119.2702&amp;unit=0&amp;lg=english&amp;FcstType=kml\"><img alt=\"Get as KML\" height=\"17\" src=\"/images/wtf/kml_badge.png\" width=\"45\"/></a>, <a href=\"MapClick.php?lat=36.3741&amp;lon=-119.2702&amp;unit=0&amp;lg=english&amp;FcstType=dwml\"><img alt=\"Get as XML\" height=\"17\" src=\"/images/wtf/xml_badge.png\" width=\"45\"/></a>, <a href=\"//radar.weather.gov/radar.php?rid=hnx&amp;product=N0R&amp;overlay=11101111&amp;loop=no\"><img alt=\"Link to Local Radar Data\" class=\"radar-thumb\" src=\"//radar.weather.gov/Thumbs/HNX_Thumb.gif\" title=\"Link to Local Radar Data\"/></a>, <a href=\"https://www.star.nesdis.noaa.gov/GOES/sector.php?sat=G17§or=psw\"><img alt=\"Link to Satellite Data\" class=\"satellite-thumb\" src=\"https://cdn.star.nesdis.noaa.gov/GOES17/ABI/SECTOR/psw/GEOCOLOR/600x600.jpg\" title=\"Link to Satellite Data\"/></a>, <a href=\"MapClick.php?lat=36.3741&amp;lon=-119.2702&amp;unit=0&amp;lg=english&amp;FcstType=graphical\"><img class=\"img-responsive\" src=\"newimages/medium/hourlyweather.png\"/></a>, <a href=\"//graphical.weather.gov/sectors/pacsouthwest.php?element=MaxT\"><img alt=\"National Digital Forecast Database Maximum Temperature Forecast\" border=\"0\" height=\"150\" src=\"//graphical.weather.gov/images/thumbnail/latest_MaxMinT_pacsouthwest_thumbnail.png\" title=\"National Digital Forecast Database Maximum Temperature Forecast\" width=\"147\"/></a>, <a href=\"//graphical.weather.gov/sectors/pacsouthwest.php?element=MaxT\">High Temperature</a>, <a href=\"//graphical.weather.gov/sectors/pacsouthwest.php?element=Wx\"><img alt=\"National Digital Forecast Database Weather Element Forecast\" border=\"0\" height=\"150\" src=\"//graphical.weather.gov/images/thumbnail/latest_Wx_pacsouthwest_thumbnail.png\" title=\"National Digital Forecast Database Weather Element Forecast\" width=\"147\"/></a>, <a href=\"//graphical.weather.gov/sectors/pacsouthwest.php?element=Wx\">Chance of Precipitation</a>, <a class=\"sitemap-section-heading\" href=\" http://www.nws.noaa.gov/climate/\">PAST WEATHER</a>, <a href=\" http://www.cpc.ncep.noaa.gov/products/MD_index.shtml\">Climate Monitoring </a>, <a href=\"https://w2.weather.gov/climate/\">Past Weather </a>, <a href=\" http://www.nws.noaa.gov/climate/\">Monthly Temps </a>, <a href=\" http://www.nws.noaa.gov/climate/\">Records </a>, <a href=\"https://www.esrl.noaa.gov/gmd/grad/solcalc/sunrise.html\">Astronomical Data </a>, <a href=\"https://www.climate.gov/maps-data/dataset/past-weather-zip-code-data-table\">Certified Weather Data </a>, <a class=\"sitemap-section-heading\" href=\"http://alerts.weather.gov\">ACTIVE ALERTS</a>, <a href=\" http://alerts.weather.gov\">Warnings By State</a>, <a href=\" http://www.wpc.ncep.noaa.gov/ww.shtml\">Excessive Rainfall and Winter Weather Forecasts</a>, <a href=\"http://water.weather.gov/ahps/?current_color=flood&amp;current_type=all&amp;fcst_type=obs&amp;conus_map=d_map\">River Flooding </a>, <a href=\" http://www.weather.gov\">Latest Warnings</a>, <a href=\" http://www.spc.noaa.gov/products/outlook/\">Thunderstorm/Tornado Outlook </a>, <a href=\" http://www.nhc.noaa.gov/\">Hurricanes </a>, <a href=\" http://www.spc.noaa.gov/products/fire_wx/\">Fire Weather Outlooks </a>, <a href=\" http://www.cpc.ncep.noaa.gov/products/stratosphere/uv_index/uv_alert.shtml\">UV Alerts </a>, <a href=\" http://www.drought.gov/\">Drought </a>, <a href=\"http://www.swpc.noaa.gov/products/alerts-watches-and-warnings\">Space Weather </a>, <a href=\" http://www.nws.noaa.gov/nwr/\">NOAA Weather Radio </a>, <a href=\" http://alerts.weather.gov/\">NWS CAP Feeds </a>, <a class=\"sitemap-section-heading\" href=\"http://www.weather.gov/current\">CURRENT CONDITIONS</a>, <a href=\" http://www.weather.gov/Radar\">Radar </a>, <a href=\"http://www.cpc.ncep.noaa.gov/products/monitoring_and_data/\">Climate Monitoring </a>, <a href=\" http://water.weather.gov/ahps/\">River Levels </a>, <a href=\" http://water.weather.gov/precip/\">Observed Precipitation </a>, <a href=\"https://www.wpc.ncep.noaa.gov/sfc/sfcobs/sfcobs.shtml\">Surface Weather </a>, <a href=\"http://www.spc.noaa.gov/obswx/maps/\">Upper Air </a>, <a href=\" http://www.ndbc.noaa.gov/\">Marine and Buoy Reports </a>, <a href=\"http://www.nohrsc.noaa.gov/interactive/html/map.html\">Snow Cover </a>, <a href=\" http://www.weather.gov/satellite\">Satellite </a>, <a href=\" http://www.swpc.noaa.gov/\">Space Weather </a>, <a href=\"http://www.weather.gov/pr\">International Observations</a>, <a class=\"sitemap-section-heading\" href=\"http://weather.gov/forecastmaps\">FORECAST</a>, <a href=\" http://www.weather.gov/\">Local Forecast </a>, <a href=\"http://www.weather.gov/pr\">International Forecasts</a>, <a href=\" http://www.spc.noaa.gov/\">Severe Weather </a>, <a href=\" http://www.wpc.ncep.noaa.gov/\">Current Outlook Maps </a>, <a href=\"http://www.cpc.ncep.noaa.gov/products/Drought\">Drought </a>, <a href=\"http://www.weather.gov/fire\">Fire Weather </a>, <a href=\" http://www.wpc.ncep.noaa.gov/\">Fronts/Precipitation Maps </a>, <a href=\" http://www.nws.noaa.gov/forecasts/graphical/\">Current Graphical Forecast Maps </a>, <a href=\"http://water.weather.gov/ahps/forecasts.php\">Rivers </a>, <a href=\"https://www.weather.gov/marine/\">Marine </a>, <a href=\"https://ocean.weather.gov/marine_areas.php\">Offshore and High Seas</a>, <a href=\" http://www.nhc.noaa.gov/\">Hurricanes </a>, <a href=\" http://aviationweather.gov\">Aviation Weather </a>, <a href=\"http://www.cpc.ncep.noaa.gov/products/OUTLOOKS_index.shtml\">Climatic Outlook </a>, <a class=\"sitemap-section-heading\" href=\"http://www.weather.gov/informationcenter\">INFORMATION CENTER</a>, <a href=\" http://www.spaceweather.gov\">Space Weather </a>, <a href=\"http://www.weather.gov/briefing/\">Daily Briefing </a>, <a href=\" http://www.nws.noaa.gov/om/marine/home.htm\">Marine </a>, <a href=\"http://www.nws.noaa.gov/climate\">Climate </a>, <a href=\"http://www.weather.gov/fire\">Fire Weather </a>, <a href=\" http://www.aviationweather.gov/\">Aviation </a>, <a href=\"http://mag.ncep.noaa.gov/\">Forecast Models </a>, <a href=\"http://water.weather.gov/ahps/\">Water </a>, <a href=\"https://www.weather.gov/gis/\">GIS</a>, <a href=\" http://www.nws.noaa.gov/om/coop/\">Cooperative Observers </a>, <a href=\"https://www.weather.gov/skywarn/\">Storm Spotters </a>, <a href=\"http://www.tsunami.gov\">Tsunami Warning System</a>, <a href=\"http://water.noaa.gov/\">National Water Center</a>, <a href=\"http://www.weather.gov/pr\">International Weather</a>, <a class=\"sitemap-section-heading\" href=\"http://weather.gov/safety\">WEATHER SAFETY</a>, <a href=\"http://www.weather.gov/nwr/\">NOAA Weather Radio</a>, <a href=\"http://www.weather.gov/stormready/\">StormReady</a>, <a href=\"http://www.nws.noaa.gov/om/heat/index.shtml\">Heat </a>, <a href=\"https://www.weather.gov/safety/lightning\">Lightning </a>, <a href=\" http://www.nhc.noaa.gov/prepare/\">Hurricanes </a>, <a href=\"http://www.nws.noaa.gov/om/thunderstorm/\">Thunderstorms </a>, <a href=\"https://www.weather.gov/safety/tornado\">Tornadoes </a>, <a href=\"https://www.weather.gov/safety/ripcurrent\">Rip Currents </a>, <a href=\"https://www.weather.gov/safety/flood\">Floods </a>, <a href=\"https://www.weather.gov/safety/tsunami\">Tsunamis</a>, <a href=\"https://www.weather.gov/tsunamiready/\">TsunamiReady</a>, <a href=\" http://www.weather.gov/om/winter/index.shtml\">Winter Weather </a>, <a href=\"http://www.nws.noaa.gov/om/heat/uv.shtml\">Ultra Violet Radiation </a>, <a href=\" http://www.weather.gov/airquality/\">Air Quality </a>, <a href=\" http://www.weather.gov/om/hazstats.shtml\">Damage/Fatality/Injury Statistics </a>, <a href=\" http://www.redcross.org/\">Red Cross </a>, <a href=\" http://www.fema.gov/\">Federal Emergency Management Agency (FEMA) </a>, <a href=\" http://www.weather.gov/om/brochures.shtml\">Brochures </a>, <a href=\"http://www.nws.noaa.gov/os/marine/safeboating/\">Safe Boating</a>, <a class=\"sitemap-section-heading\" href=\"http://weather.gov/news\">NEWS</a>, <a href=\" http://weather.gov/news\">Newsroom</a>, <a href=\" http://weather.gov/socialmedia\">Social Media </a>, <a href=\"http://www.nws.noaa.gov/com/weatherreadynation/calendar.html\">Events</a>, <a href=\" http://www.weather.gov/om/brochures.shtml\">Pubs/Brochures/Booklets </a>, <a class=\"sitemap-section-heading\" href=\"http://weather.gov/owlie\">EDUCATION</a>, <a href=\"http://weather.gov/owlie\">NWS Education Home</a>, <a href=\"http://www.nws.noaa.gov/com/weatherreadynation/force.html\">Be A Force of Nature</a>, <a href=\" http://www.education.noaa.gov/Weather_and_Atmosphere/\">NOAA Education Resources </a>, <a href=\" http://www.weather.gov/glossary/\">Glossary </a>, <a href=\"https://www.weather.gov/jetstream/\">JetStream </a>, <a href=\" http://www.weather.gov/training/\">NWS Training Portal </a>, <a href=\"https://library.noaa.gov/\">NOAA Library </a>, <a href=\"http://weather.gov/owlie\">For Students, Parents and Teachers</a>, <a href=\"http://www.weather.gov/owlie/publication_brochures\">Brochures </a>, <a class=\"sitemap-section-heading\" href=\"http://weather.gov/about\">ABOUT</a>, <a href=\"http://weather.gov/organization\">Organization </a>, <a href=\"https://www.weather.gov/media/wrn/NWS_Weather-Ready-Nation_Strategic_Plan_2019-2022.pdf\">Strategic Plan </a>, <a href=\"https://sites.google.com/a/noaa.gov/nws-best-practices/\">For NWS Employees </a>, <a href=\"https://www.weather.gov/international/\">International </a>, <a href=\"http://www.ncep.noaa.gov/\">National Centers </a>, <a href=\" http://www.weather.gov/tg/\">Products and Services </a>, <a href=\"http://www.weather.gov/careers/\">Careers</a>, <a href=\" http://www.weather.gov/glossary/\">Glossary </a>, <a href=\"http://weather.gov/contact\">Contact Us </a>, <a href=\"http://www.usa.gov\"><img alt=\"usa.gov\" height=\"30\" src=\"/css/images/usa_gov.png\" width=\"110\"/></a>, <a href=\"http://www.commerce.gov\">US Dept of Commerce</a>, <a href=\"http://www.noaa.gov\">National Oceanic and Atmospheric Administration</a>, <a href=\"http://www.weather.gov\">National Weather Service</a>, <a href=\"https://www.weather.gov/hnx\">San Joaquin Valley, CA</a>, <a href=\"mailto:w-hnx.webmaster@noaa.gov\">Comments? Questions? Please Contact Us.</a>, <a href=\"https://www.weather.gov/disclaimer\">Disclaimer</a>, <a href=\"http://www.cio.noaa.gov/services_programs/info_quality.html\">Information Quality</a>, <a href=\"https://www.weather.gov/help\">Help</a>, <a href=\"http://www.weather.gov/glossary\">Glossary</a>, <a href=\"https://www.weather.gov/privacy\">Privacy Policy</a>, <a href=\"https://www.noaa.gov/foia-freedom-of-information-act\">Freedom of Information Act (FOIA)</a>, <a href=\"https://www.weather.gov/about\">About Us</a>, <a href=\"https://www.weather.gov/careers\">Career Opportunities</a>]\n"
          ],
          "name": "stdout"
        }
      ]
    },
    {
      "cell_type": "code",
      "metadata": {
        "id": "Y1oElhL1_YMZ",
        "colab_type": "code",
        "colab": {}
      },
      "source": [
        "# Step 3: HTML Tree traversal\n",
        "# Commonly used types of objects:\n",
        "# print(type(title)) # 1. Tag\n",
        "# print(type(title.string)) # 2. NavigableString\n",
        "# print(type(soup)) # 3. BeautifulSoup\n",
        "# markup = \"<p><!-- this is a comment --></p>\" # 4. Comment\n",
        "# soup2 = BeautifulSoup(markup)\n",
        "# print(type(soup2.p.string))\n",
        "week = soup.find(id='seven-day-forecast-body') #Accessing the div class id\n",
        "# print(week)"
      ],
      "execution_count": 4,
      "outputs": []
    },
    {
      "cell_type": "code",
      "metadata": {
        "id": "G-I2cdBf_YOm",
        "colab_type": "code",
        "colab": {
          "base_uri": "https://localhost:8080/",
          "height": 88
        },
        "outputId": "49197d8d-6bc6-4f27-e703-840a7cdaaf3d"
      },
      "source": [
        "#in bs4 we use class_ as class is an inbuild function in python\n",
        "items = week.find_all(class_=\"tombstone-container\") #each items in the list is stored\n",
        "print(items[0])  #getting first item in the list"
      ],
      "execution_count": 5,
      "outputs": [
        {
          "output_type": "stream",
          "text": [
            "<div class=\"tombstone-container\">\n",
            "<p class=\"period-name\">Today<br/><br/></p>\n",
            "<p><img alt=\"Today: Sunny and hot, with a high near 100. Southwest wind around 5 mph becoming west northwest in the afternoon. \" class=\"forecast-icon\" src=\"newimages/medium/hot.png\" title=\"Today: Sunny and hot, with a high near 100. Southwest wind around 5 mph becoming west northwest in the afternoon. \"/></p><p class=\"short-desc\">Hot</p><p class=\"temp temp-high\">High: 100 °F</p></div>\n"
          ],
          "name": "stdout"
        }
      ]
    },
    {
      "cell_type": "code",
      "metadata": {
        "id": "Z2miOro-H2du",
        "colab_type": "code",
        "colab": {
          "base_uri": "https://localhost:8080/",
          "height": 68
        },
        "outputId": "5133e6e3-b481-4903-dc29-700196952e40"
      },
      "source": [
        "#now after getting one day data, we will get all the period names and store them in one column\n",
        "#similarly description and temperature column will be created\n",
        "print(items[0].find(class_='period-name').get_text()) #getting the period/day\n",
        "print(items[0].find(class_='short-desc').get_text()) #getting the short description\n",
        "print(items[0].find(class_='temp').get_text()) #getting the temperature"
      ],
      "execution_count": 6,
      "outputs": [
        {
          "output_type": "stream",
          "text": [
            "Today\n",
            "Hot\n",
            "High: 100 °F\n"
          ],
          "name": "stdout"
        }
      ]
    },
    {
      "cell_type": "code",
      "metadata": {
        "id": "pmEmP72IH2gX",
        "colab_type": "code",
        "colab": {
          "base_uri": "https://localhost:8080/",
          "height": 34
        },
        "outputId": "b30522df-f643-4ba3-f968-961222685e96"
      },
      "source": [
        "#now we are getting all the data pertaining to one day (first stomstone container), now we will run for loop to go through all of them\n",
        "period_names = [item.find(class_='period-name').get_text() for item in items] #list comprehension that stores all days\n",
        "print(period_names)"
      ],
      "execution_count": 7,
      "outputs": [
        {
          "output_type": "stream",
          "text": [
            "['Today', 'Tonight', 'Thursday', 'ThursdayNight', 'Friday', 'FridayNight', 'Saturday', 'SaturdayNight', 'Sunday']\n"
          ],
          "name": "stdout"
        }
      ]
    },
    {
      "cell_type": "code",
      "metadata": {
        "id": "blSS2o7BH2cw",
        "colab_type": "code",
        "colab": {
          "base_uri": "https://localhost:8080/",
          "height": 34
        },
        "outputId": "bc80e574-1e27-4511-ae73-f0185b3899e4"
      },
      "source": [
        "short_description = [item.find(class_='short-desc').get_text() for item in items] #list comprehension that stores all descriptions\n",
        "print(short_description)"
      ],
      "execution_count": 8,
      "outputs": [
        {
          "output_type": "stream",
          "text": [
            "['Hot', 'Mostly Clear', 'Mostly Sunny', 'Partly Cloudy', 'Hot', 'Mostly Clear', 'Hot', 'Partly Cloudy', 'Hot']\n"
          ],
          "name": "stdout"
        }
      ]
    },
    {
      "cell_type": "code",
      "metadata": {
        "id": "U9je0fKUH2ZM",
        "colab_type": "code",
        "colab": {
          "base_uri": "https://localhost:8080/",
          "height": 34
        },
        "outputId": "9f4e2920-2591-4899-9c38-1b010f435d1f"
      },
      "source": [
        "temperature = [x.find(class_='temp').get_text() for x in items] #list comprehension that stores all temperatures\n",
        "print(temperature)"
      ],
      "execution_count": 9,
      "outputs": [
        {
          "output_type": "stream",
          "text": [
            "['High: 100 °F', 'Low: 68 °F', 'High: 98 °F', 'Low: 73 °F', 'High: 104 °F', 'Low: 74 °F', 'High: 106 °F', 'Low: 74 °F', 'High: 105 °F']\n"
          ],
          "name": "stdout"
        }
      ]
    },
    {
      "cell_type": "code",
      "metadata": {
        "id": "58LJqIsK_YRh",
        "colab_type": "code",
        "colab": {
          "base_uri": "https://localhost:8080/",
          "height": 187
        },
        "outputId": "087a29e9-1b1b-4d0d-f1a8-936fa1ada4c0"
      },
      "source": [
        "#we can use pandas to store this into a DataFrame\n",
        "import pandas as pd\n",
        "weather_stuff = pd.DataFrame(\n",
        "    {'Period':period_names,\n",
        "     'Description': short_description,\n",
        "     'Temperature': temperature\n",
        "     })\n",
        "\n",
        "print(weather_stuff)\n"
      ],
      "execution_count": 10,
      "outputs": [
        {
          "output_type": "stream",
          "text": [
            "          Period    Description   Temperature\n",
            "0          Today            Hot  High: 100 °F\n",
            "1        Tonight   Mostly Clear    Low: 68 °F\n",
            "2       Thursday   Mostly Sunny   High: 98 °F\n",
            "3  ThursdayNight  Partly Cloudy    Low: 73 °F\n",
            "4         Friday            Hot  High: 104 °F\n",
            "5    FridayNight   Mostly Clear    Low: 74 °F\n",
            "6       Saturday            Hot  High: 106 °F\n",
            "7  SaturdayNight  Partly Cloudy    Low: 74 °F\n",
            "8         Sunday            Hot  High: 105 °F\n"
          ],
          "name": "stdout"
        }
      ]
    },
    {
      "cell_type": "code",
      "metadata": {
        "id": "7UkmSsFvOyN6",
        "colab_type": "code",
        "colab": {
          "base_uri": "https://localhost:8080/",
          "height": 17
        },
        "outputId": "8999d5bd-8f57-43d8-a3a3-09c62cb1fd91"
      },
      "source": [
        "#storing the data into csv file\n",
        "from google.colab import files\n",
        "weather_stuff.to_csv('weather.csv')"
      ],
      "execution_count": 11,
      "outputs": [
        {
          "output_type": "display_data",
          "data": {
            "application/javascript": [
              "\n",
              "    async function download(id, filename, size) {\n",
              "      if (!google.colab.kernel.accessAllowed) {\n",
              "        return;\n",
              "      }\n",
              "      const div = document.createElement('div');\n",
              "      const label = document.createElement('label');\n",
              "      label.textContent = `Downloading \"${filename}\": `;\n",
              "      div.appendChild(label);\n",
              "      const progress = document.createElement('progress');\n",
              "      progress.max = size;\n",
              "      div.appendChild(progress);\n",
              "      document.body.appendChild(div);\n",
              "\n",
              "      const buffers = [];\n",
              "      let downloaded = 0;\n",
              "\n",
              "      const channel = await google.colab.kernel.comms.open(id);\n",
              "      // Send a message to notify the kernel that we're ready.\n",
              "      channel.send({})\n",
              "\n",
              "      for await (const message of channel.messages) {\n",
              "        // Send a message to notify the kernel that we're ready.\n",
              "        channel.send({})\n",
              "        if (message.buffers) {\n",
              "          for (const buffer of message.buffers) {\n",
              "            buffers.push(buffer);\n",
              "            downloaded += buffer.byteLength;\n",
              "            progress.value = downloaded;\n",
              "          }\n",
              "        }\n",
              "      }\n",
              "      const blob = new Blob(buffers, {type: 'application/binary'});\n",
              "      const a = document.createElement('a');\n",
              "      a.href = window.URL.createObjectURL(blob);\n",
              "      a.download = filename;\n",
              "      div.appendChild(a);\n",
              "      a.click();\n",
              "      div.remove();\n",
              "    }\n",
              "  "
            ],
            "text/plain": [
              "<IPython.core.display.Javascript object>"
            ]
          },
          "metadata": {
            "tags": []
          }
        },
        {
          "output_type": "display_data",
          "data": {
            "application/javascript": [
              "download(\"download_0aa77a7a-a388-444a-b0b1-a9fe5da52ffd\", \"weather.csv\", 336)"
            ],
            "text/plain": [
              "<IPython.core.display.Javascript object>"
            ]
          },
          "metadata": {
            "tags": []
          }
        }
      ]
    },
    {
      "cell_type": "code",
      "metadata": {
        "id": "gMBNOl1cSPF1",
        "colab_type": "code",
        "colab": {}
      },
      "source": [
        "# files.download('weather.csv')"
      ],
      "execution_count": null,
      "outputs": []
    }
  ]
}